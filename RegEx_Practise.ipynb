{
 "cells": [
  {
   "cell_type": "code",
   "execution_count": 2,
   "id": "1f153d9b-7efc-4580-aba9-e7c765488412",
   "metadata": {},
   "outputs": [],
   "source": [
    "import re"
   ]
  },
  {
   "cell_type": "code",
   "execution_count": 3,
   "id": "3885cc67-8bed-4704-a808-1264fa0b1555",
   "metadata": {},
   "outputs": [
    {
     "data": {
      "text/plain": [
       "['9991116666', '(222)-333-444']"
      ]
     },
     "execution_count": 3,
     "metadata": {},
     "output_type": "execute_result"
    }
   ],
   "source": [
    "text = ''' Elon Musk's phone number is 9991116666, he is the CEO of Tesla, Tesla's net worth is 40 billion USD$\n",
    "the CFO's phone number is (222)-333-4444 '''\n",
    "\n",
    "pattern = '\\(\\d{3}\\)-\\d{3}-\\d{3}|\\d{10}'\n",
    "\n",
    "matches = re.findall(pattern, text)\n",
    "matches"
   ]
  },
  {
   "cell_type": "code",
   "execution_count": 4,
   "id": "152867fb-7890-4e99-8684-577090bbfaf0",
   "metadata": {},
   "outputs": [
    {
     "data": {
      "text/plain": [
       "['sdfsfd', ':asdsfa::']"
      ]
     },
     "execution_count": 4,
     "metadata": {},
     "output_type": "execute_result"
    }
   ],
   "source": [
    "text = 'sdfsfd*:asdsfa::'\n",
    "pattern = '[^*]+'\n",
    "matches = re.findall(pattern, text)\n",
    "matches"
   ]
  },
  {
   "cell_type": "code",
   "execution_count": 9,
   "id": "42a4a5ba-73d9-456c-a014-389fa5da94c3",
   "metadata": {},
   "outputs": [
    {
     "data": {
      "text/plain": [
       "['Elon Musk']"
      ]
     },
     "execution_count": 9,
     "metadata": {},
     "output_type": "execute_result"
    }
   ],
   "source": [
    "text = ''' Elon Musk's phone number is 9991116666, he is the CEO of Tesla, Tesla's net worth is 40 billion USD$\n",
    "the CFO's phone number is (222)-333-4444 '''\n",
    "\n",
    "pattern = 'elon musk'\n",
    "matches = re.findall(pattern,text,flags = re.IGNORECASE)\n",
    "matches"
   ]
  },
  {
   "cell_type": "code",
   "execution_count": null,
   "id": "94cdb47e-fc36-4cd4-bd61-9492dbca8fea",
   "metadata": {},
   "outputs": [],
   "source": []
  }
 ],
 "metadata": {
  "kernelspec": {
   "display_name": "Python 3 (ipykernel)",
   "language": "python",
   "name": "python3"
  },
  "language_info": {
   "codemirror_mode": {
    "name": "ipython",
    "version": 3
   },
   "file_extension": ".py",
   "mimetype": "text/x-python",
   "name": "python",
   "nbconvert_exporter": "python",
   "pygments_lexer": "ipython3",
   "version": "3.11.7"
  }
 },
 "nbformat": 4,
 "nbformat_minor": 5
}
