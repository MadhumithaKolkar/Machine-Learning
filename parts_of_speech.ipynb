{
 "cells": [
  {
   "cell_type": "code",
   "execution_count": 1,
   "id": "bd02cc2a-3695-4c55-8d28-6108ff01044d",
   "metadata": {},
   "outputs": [],
   "source": [
    "import spacy\n",
    "nlp = spacy.load(\"en_core_web_sm\")"
   ]
  },
  {
   "cell_type": "code",
   "execution_count": 5,
   "id": "f5230ea7-62c7-40a3-87ab-09dca0ff2e14",
   "metadata": {},
   "outputs": [
    {
     "data": {
      "text/plain": [
       "['tok2vec', 'tagger', 'parser', 'attribute_ruler', 'lemmatizer', 'ner']"
      ]
     },
     "execution_count": 5,
     "metadata": {},
     "output_type": "execute_result"
    }
   ],
   "source": [
    "nlp.pipe_names"
   ]
  },
  {
   "cell_type": "code",
   "execution_count": 12,
   "id": "4aef2652-f02b-4f13-a111-d784c51af257",
   "metadata": {},
   "outputs": [
    {
     "name": "stdout",
     "output_type": "stream",
     "text": [
      "Wow | INTJ | interjection | UH | interjection\n",
      "make | VERB | verb | VB | verb, base form\n",
      "eat | VERB | verb | VB | verb, base form\n",
      "The | DET | determiner | DT | determiner\n",
      "cat | NOUN | noun | NN | noun, singular or mass\n",
      "chased | VERB | verb | VBD | verb, past tense\n",
      "the | DET | determiner | DT | determiner\n",
      "playful | ADJ | adjective | JJ | adjective (English), other noun-modifier (Chinese)\n",
      "dog | NOUN | noun | NN | noun, singular or mass\n",
      "around | ADP | adposition | IN | conjunction, subordinating or preposition\n",
      "the | DET | determiner | DT | determiner\n",
      "old | ADJ | adjective | JJ | adjective (English), other noun-modifier (Chinese)\n",
      "oak | NOUN | noun | NN | noun, singular or mass\n",
      "tree | NOUN | noun | NN | noun, singular or mass\n",
      ". | PUNCT | punctuation | . | punctuation mark, sentence closer\n",
      "Elon | PROPN | proper noun | NNP | noun, proper singular\n",
      "ate | VERB | verb | VBD | verb, past tense\n",
      "Biryani | PROPN | proper noun | NNP | noun, proper singular\n",
      "later | ADV | adverb | RB | adverb\n",
      ". | PUNCT | punctuation | . | punctuation mark, sentence closer\n"
     ]
    }
   ],
   "source": [
    "doc = nlp(\"Wow make eat The cat chased the playful dog around the old oak tree. Elon ate Biryani later.\")\n",
    "for token in doc:\n",
    "    print(token, \"|\", token.pos_, \"|\", spacy.explain(token.pos_), \"|\", token.tag_, \"|\", spacy.explain(token.tag_))"
   ]
  },
  {
   "cell_type": "code",
   "execution_count": 15,
   "id": "e70da95b-cd50-44b3-8c0b-a48f15f69713",
   "metadata": {},
   "outputs": [
    {
     "name": "stdout",
     "output_type": "stream",
     "text": [
      "Part | NOUN | noun\n",
      "of | ADP | adposition\n",
      "speech | NOUN | noun\n",
      "or | CCONJ | coordinating conjunction\n",
      "POS | PROPN | proper noun\n",
      "tagging | NOUN | noun\n",
      "is | AUX | auxiliary\n",
      "used | VERB | verb\n",
      "to | PART | particle\n",
      "tag | VERB | verb\n",
      "parts | NOUN | noun\n",
      "of | ADP | adposition\n",
      "speech | NOUN | noun\n",
      "while | SCONJ | subordinating conjunction\n",
      "building | VERB | verb\n",
      "an | DET | determiner\n",
      "NLP | PROPN | proper noun\n",
      "application | NOUN | noun\n",
      "In | ADP | adposition\n",
      "this | DET | determiner\n",
      "video | NOUN | noun\n",
      "we | PRON | pronoun\n",
      "will | AUX | auxiliary\n",
      "cover | VERB | verb\n",
      "the | DET | determiner\n",
      "basics | NOUN | noun\n",
      "of | ADP | adposition\n",
      "POS | PROPN | proper noun\n",
      "first | ADV | adverb\n",
      "and | CCONJ | coordinating conjunction\n",
      "then | ADV | adverb\n",
      "write | VERB | verb\n",
      "code | NOUN | noun\n",
      "in | ADP | adposition\n",
      "spacy | NOUN | noun\n"
     ]
    }
   ],
   "source": [
    "text = \"\"\"\n",
    "Part of speech or POS tagging is used to tag parts of speech while building an NLP application. In this video, we will cover the basics of POS first and then write code in spacy\n",
    "\"\"\"\n",
    "filtered_tokens = []\n",
    "doc = nlp(text)\n",
    "for token in doc:\n",
    "    if token.pos_ not in [\"SPACE\",\"X\",\"PUNCT\"]:\n",
    "        print(token, \"|\", token.pos_, \"|\", spacy.explain(token.pos_))\n",
    "        filtered_tokens.append(token)"
   ]
  },
  {
   "cell_type": "code",
   "execution_count": 17,
   "id": "2495131d-e75e-4c50-b687-bf70515f5f0d",
   "metadata": {},
   "outputs": [
    {
     "data": {
      "text/plain": [
       "[Part, of, speech, or, POS, tagging, is, used, to, tag]"
      ]
     },
     "execution_count": 17,
     "metadata": {},
     "output_type": "execute_result"
    }
   ],
   "source": [
    "filtered_tokens[:10]"
   ]
  },
  {
   "cell_type": "code",
   "execution_count": 18,
   "id": "931a82fa-b22b-4025-b896-7a289e7bb5f3",
   "metadata": {},
   "outputs": [
    {
     "data": {
      "text/plain": [
       "{103: 2,\n",
       " 92: 10,\n",
       " 85: 5,\n",
       " 89: 2,\n",
       " 96: 3,\n",
       " 87: 2,\n",
       " 100: 5,\n",
       " 94: 1,\n",
       " 98: 1,\n",
       " 90: 3,\n",
       " 97: 2,\n",
       " 95: 1,\n",
       " 86: 2}"
      ]
     },
     "execution_count": 18,
     "metadata": {},
     "output_type": "execute_result"
    }
   ],
   "source": [
    "count = doc.count_by(spacy.attrs.POS)\n",
    "count"
   ]
  },
  {
   "cell_type": "code",
   "execution_count": 20,
   "id": "85bfc26f-c313-47c7-ad9a-246c057d1cea",
   "metadata": {},
   "outputs": [
    {
     "data": {
      "text/plain": [
       "'ADP'"
      ]
     },
     "execution_count": 20,
     "metadata": {},
     "output_type": "execute_result"
    }
   ],
   "source": [
    "doc.vocab[85].text"
   ]
  },
  {
   "cell_type": "code",
   "execution_count": 22,
   "id": "4108a145-419f-41cc-a4a0-1ae97405b500",
   "metadata": {},
   "outputs": [
    {
     "name": "stdout",
     "output_type": "stream",
     "text": [
      "Key : SPACE, Value: 2\n",
      "Key : NOUN, Value: 10\n",
      "Key : ADP, Value: 5\n",
      "Key : CCONJ, Value: 2\n",
      "Key : PROPN, Value: 3\n",
      "Key : AUX, Value: 2\n",
      "Key : VERB, Value: 5\n",
      "Key : PART, Value: 1\n",
      "Key : SCONJ, Value: 1\n",
      "Key : DET, Value: 3\n",
      "Key : PUNCT, Value: 2\n",
      "Key : PRON, Value: 1\n",
      "Key : ADV, Value: 2\n"
     ]
    }
   ],
   "source": [
    "for k,v in count.items():\n",
    "    print(f\"Key : {doc.vocab[k].text}, Value: {v}\")"
   ]
  },
  {
   "cell_type": "code",
   "execution_count": null,
   "id": "cb2d33f8-93b3-46f7-9107-7855195e0c28",
   "metadata": {},
   "outputs": [],
   "source": []
  }
 ],
 "metadata": {
  "kernelspec": {
   "display_name": "Python 3 (ipykernel)",
   "language": "python",
   "name": "python3"
  },
  "language_info": {
   "codemirror_mode": {
    "name": "ipython",
    "version": 3
   },
   "file_extension": ".py",
   "mimetype": "text/x-python",
   "name": "python",
   "nbconvert_exporter": "python",
   "pygments_lexer": "ipython3",
   "version": "3.11.7"
  }
 },
 "nbformat": 4,
 "nbformat_minor": 5
}
