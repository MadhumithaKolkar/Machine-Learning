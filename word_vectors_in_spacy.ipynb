{
 "cells": [
  {
   "cell_type": "code",
   "execution_count": 1,
   "id": "cbf6aab9-ed17-4864-9365-3f9683d46bf1",
   "metadata": {},
   "outputs": [],
   "source": [
    "import spacy.cli\n",
    "\n",
    "nlp = spacy.load('en_core_web_lg')"
   ]
  },
  {
   "cell_type": "code",
   "execution_count": 5,
   "id": "dd0aa815-fc79-4566-86c5-d8bf997e6cd1",
   "metadata": {},
   "outputs": [
    {
     "name": "stdout",
     "output_type": "stream",
     "text": [
      "dog Vector : True OOV False\n",
      "ate Vector : True OOV False\n",
      "banana Vector : True OOV False\n",
      "clementine Vector : True OOV False\n",
      "ggrth Vector : False OOV True\n"
     ]
    }
   ],
   "source": [
    "doc = nlp(\"dog ate banana clementine ggrth\")\n",
    "\n",
    "for token in doc:\n",
    "    print(token.text, \"Vector :\", token.has_vector, \"OOV\", token.is_oov)"
   ]
  },
  {
   "cell_type": "code",
   "execution_count": 7,
   "id": "f089457c-3257-49ac-bbd6-758e12d79a55",
   "metadata": {},
   "outputs": [
    {
     "data": {
      "text/plain": [
       "(300,)"
      ]
     },
     "execution_count": 7,
     "metadata": {},
     "output_type": "execute_result"
    }
   ],
   "source": [
    "doc[0].vector.shape"
   ]
  },
  {
   "cell_type": "code",
   "execution_count": 13,
   "id": "9b9273eb-926e-43c2-8366-9434b3f5689b",
   "metadata": {},
   "outputs": [
    {
     "name": "stdout",
     "output_type": "stream",
     "text": [
      "bread ---> bread :  0.9999999744752309\n",
      "Sandwich ---> bread :  0.345367441667014\n",
      "burger ---> bread :  0.47520687769584247\n",
      "fries ---> bread :  0.6149009599366244\n",
      "cat ---> bread :  0.1255933851043781\n",
      "dog ---> bread :  0.2063604557414829\n",
      "car ---> bread :  0.06451532596945217\n"
     ]
    }
   ],
   "source": [
    "base_token = nlp(\"bread\")\n",
    "doc = nlp(\"bread Sandwich burger fries cat dog car\")\n",
    "\n",
    "for token in doc:\n",
    "    print(f\"{token.text} ---> {base_token.text} : \", token.similarity(base_token))"
   ]
  },
  {
   "cell_type": "code",
   "execution_count": 14,
   "id": "dabd9a52-cbbc-4da6-adc0-dae3674d3115",
   "metadata": {},
   "outputs": [],
   "source": [
    "def print_similarity(base_word, words_to_compare):\n",
    "    base_token = nlp(base_word)\n",
    "    doc = nlp(words_to_compare)\n",
    "    for token in doc:\n",
    "        print(f\"{token.text} ---> {base_token.text} : \", token.similarity(base_token))"
   ]
  },
  {
   "cell_type": "code",
   "execution_count": 15,
   "id": "22b77028-ff2d-41aa-b66e-f1c6a1131084",
   "metadata": {},
   "outputs": [
    {
     "name": "stdout",
     "output_type": "stream",
     "text": [
      "apple ---> iPhone :  0.3634122869313048\n",
      "samsung ---> iPhone :  0.6135584463724342\n",
      "iPhone ---> iPhone :  0.9999999460614557\n",
      "dog ---> iPhone :  0.062353975727114645\n",
      "kitten ---> iPhone :  0.0861741217177069\n"
     ]
    }
   ],
   "source": [
    "print_similarity(\"iPhone\",\"apple samsung iPhone dog kitten\")"
   ]
  },
  {
   "cell_type": "code",
   "execution_count": null,
   "id": "4c524ee0-3f82-45d7-9d6b-dfa3ddb9748b",
   "metadata": {},
   "outputs": [],
   "source": []
  }
 ],
 "metadata": {
  "kernelspec": {
   "display_name": "Python 3 (ipykernel)",
   "language": "python",
   "name": "python3"
  },
  "language_info": {
   "codemirror_mode": {
    "name": "ipython",
    "version": 3
   },
   "file_extension": ".py",
   "mimetype": "text/x-python",
   "name": "python",
   "nbconvert_exporter": "python",
   "pygments_lexer": "ipython3",
   "version": "3.11.7"
  }
 },
 "nbformat": 4,
 "nbformat_minor": 5
}
