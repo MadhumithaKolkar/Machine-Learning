{
 "cells": [
  {
   "cell_type": "code",
   "execution_count": 7,
   "id": "e5ae8af8-4057-4e61-b31f-4e9df194f8cf",
   "metadata": {},
   "outputs": [],
   "source": [
    "import math\n",
    "\n",
    "def sigmoid(z):\n",
    "    return 1/(1+math.exp(-z))"
   ]
  },
  {
   "cell_type": "code",
   "execution_count": 8,
   "id": "d243bc0e-da9d-4eae-b256-c6d6c03cd649",
   "metadata": {},
   "outputs": [
    {
     "data": {
      "text/plain": [
       "1.0"
      ]
     },
     "execution_count": 8,
     "metadata": {},
     "output_type": "execute_result"
    }
   ],
   "source": [
    "sigmoid(100)"
   ]
  },
  {
   "cell_type": "code",
   "execution_count": 9,
   "id": "d85e37d9-974c-4f23-8437-3b0c3f1d33b8",
   "metadata": {},
   "outputs": [
    {
     "data": {
      "text/plain": [
       "0.7310585786300049"
      ]
     },
     "execution_count": 9,
     "metadata": {},
     "output_type": "execute_result"
    }
   ],
   "source": [
    "sigmoid(1)"
   ]
  },
  {
   "cell_type": "code",
   "execution_count": 10,
   "id": "4e240867-c2ad-4534-80c0-cc107aadef44",
   "metadata": {},
   "outputs": [
    {
     "data": {
      "text/plain": [
       "0.5000499999998334"
      ]
     },
     "execution_count": 10,
     "metadata": {},
     "output_type": "execute_result"
    }
   ],
   "source": [
    "sigmoid(0.0002)"
   ]
  },
  {
   "cell_type": "code",
   "execution_count": 12,
   "id": "612c284f-c0c2-4c78-8e10-8df02c5d9370",
   "metadata": {},
   "outputs": [
    {
     "data": {
      "text/plain": [
       "1.3838965267367376e-87"
      ]
     },
     "execution_count": 12,
     "metadata": {},
     "output_type": "execute_result"
    }
   ],
   "source": [
    "sigmoid(-200)"
   ]
  },
  {
   "cell_type": "code",
   "execution_count": 13,
   "id": "943c6782-15a9-4cbc-b15d-ce4b9e87d5b1",
   "metadata": {},
   "outputs": [],
   "source": [
    "def tanh(z):\n",
    "    return (math.exp(z) - math.exp(-z))/(math.exp(z) + math.exp(-z))"
   ]
  },
  {
   "cell_type": "code",
   "execution_count": 14,
   "id": "2ab0ffa4-320d-4c6e-9814-8fb32d0142b2",
   "metadata": {},
   "outputs": [
    {
     "data": {
      "text/plain": [
       "1.0"
      ]
     },
     "execution_count": 14,
     "metadata": {},
     "output_type": "execute_result"
    }
   ],
   "source": [
    "tanh(100)"
   ]
  },
  {
   "cell_type": "code",
   "execution_count": 15,
   "id": "3c7672ab-9243-4a89-8f40-53fb95d65aa2",
   "metadata": {},
   "outputs": [
    {
     "data": {
      "text/plain": [
       "-1.0"
      ]
     },
     "execution_count": 15,
     "metadata": {},
     "output_type": "execute_result"
    }
   ],
   "source": [
    "tanh(-100)"
   ]
  },
  {
   "cell_type": "code",
   "execution_count": 16,
   "id": "ca97469e-5a33-468d-a96f-5403c7f3774b",
   "metadata": {},
   "outputs": [],
   "source": [
    "def relu(z):\n",
    "    return max(0,z)"
   ]
  },
  {
   "cell_type": "code",
   "execution_count": 17,
   "id": "f639f43f-86c6-4a2d-9934-91ad51f33822",
   "metadata": {},
   "outputs": [
    {
     "data": {
      "text/plain": [
       "24"
      ]
     },
     "execution_count": 17,
     "metadata": {},
     "output_type": "execute_result"
    }
   ],
   "source": [
    "relu(24)"
   ]
  },
  {
   "cell_type": "code",
   "execution_count": 18,
   "id": "3687456d-204e-4d26-befd-2c1542371cf9",
   "metadata": {},
   "outputs": [
    {
     "data": {
      "text/plain": [
       "0"
      ]
     },
     "execution_count": 18,
     "metadata": {},
     "output_type": "execute_result"
    }
   ],
   "source": [
    "relu(-0.001)"
   ]
  },
  {
   "cell_type": "code",
   "execution_count": 19,
   "id": "64d2d4d6-7325-4493-a12d-6558af2ec139",
   "metadata": {},
   "outputs": [],
   "source": [
    "def lrelu(z):\n",
    "    return max(0.1*z,z)"
   ]
  },
  {
   "cell_type": "code",
   "execution_count": 20,
   "id": "91dd7264-f607-4853-a454-e28b5af17840",
   "metadata": {},
   "outputs": [
    {
     "data": {
      "text/plain": [
       "100"
      ]
     },
     "execution_count": 20,
     "metadata": {},
     "output_type": "execute_result"
    }
   ],
   "source": [
    "lrelu(100)"
   ]
  },
  {
   "cell_type": "code",
   "execution_count": 21,
   "id": "72f0959d-d500-4e2d-a2cf-7f3b65296e8a",
   "metadata": {},
   "outputs": [
    {
     "data": {
      "text/plain": [
       "-10.0"
      ]
     },
     "execution_count": 21,
     "metadata": {},
     "output_type": "execute_result"
    }
   ],
   "source": [
    "lrelu(-100)"
   ]
  },
  {
   "cell_type": "code",
   "execution_count": null,
   "id": "f3cf12ee-9d8a-4183-8e68-208f74d7d108",
   "metadata": {},
   "outputs": [],
   "source": []
  }
 ],
 "metadata": {
  "kernelspec": {
   "display_name": "Python 3 (ipykernel)",
   "language": "python",
   "name": "python3"
  },
  "language_info": {
   "codemirror_mode": {
    "name": "ipython",
    "version": 3
   },
   "file_extension": ".py",
   "mimetype": "text/x-python",
   "name": "python",
   "nbconvert_exporter": "python",
   "pygments_lexer": "ipython3",
   "version": "3.11.7"
  }
 },
 "nbformat": 4,
 "nbformat_minor": 5
}
