{
 "cells": [
  {
   "cell_type": "code",
   "execution_count": 1,
   "id": "56740657-9c4a-41fc-8cf6-d068ba94d623",
   "metadata": {},
   "outputs": [],
   "source": [
    "import numpy as np"
   ]
  },
  {
   "cell_type": "code",
   "execution_count": 2,
   "id": "7c6ac308-e2aa-4aea-b102-fb1a91d2ad56",
   "metadata": {},
   "outputs": [
    {
     "data": {
      "text/plain": [
       "array([80, 11,  2])"
      ]
     },
     "execution_count": 2,
     "metadata": {},
     "output_type": "execute_result"
    }
   ],
   "source": [
    "revenue = np.array([2,3,1])\n",
    "expenses = np.array([[10,1,1],[20,2,0],[0,3,0]])\n",
    "res = np.dot(revenue,expenses)\n",
    "res"
   ]
  },
  {
   "cell_type": "code",
   "execution_count": 3,
   "id": "aeb3bb89-76ef-446f-a765-d6496d1bf27f",
   "metadata": {},
   "outputs": [
    {
     "data": {
      "text/plain": [
       "[80, 11, 2]"
      ]
     },
     "execution_count": 3,
     "metadata": {},
     "output_type": "execute_result"
    }
   ],
   "source": [
    "y = [i for i in res]\n",
    "y"
   ]
  },
  {
   "cell_type": "code",
   "execution_count": 6,
   "id": "7f4eabd2-0816-41b2-b0bf-211c3f7d2abe",
   "metadata": {},
   "outputs": [
    {
     "data": {
      "text/plain": [
       "array([[15000, 16500, 18750],\n",
       "       [ 5100,  5925,  7875],\n",
       "       [ 8250, 10500, 13500],\n",
       "       [ 6000,  6375,  6750]])"
      ]
     },
     "execution_count": 6,
     "metadata": {},
     "output_type": "execute_result"
    }
   ],
   "source": [
    "revenue = np.array([[200,220,250],[68,79,105],[110,140,180],[80,85,90]])\n",
    "rupees = 75\n",
    "res = revenue * rupees\n",
    "res"
   ]
  },
  {
   "cell_type": "code",
   "execution_count": 7,
   "id": "8552e281-7bee-4fbe-9fde-18256fc0f9e7",
   "metadata": {},
   "outputs": [
    {
     "data": {
      "text/plain": [
       "array([1900, 2640, 1430])"
      ]
     },
     "execution_count": 7,
     "metadata": {},
     "output_type": "execute_result"
    }
   ],
   "source": [
    "prices = np.array([20,30,15])\n",
    "sold = np.array([[50,60,25],[10,13,5],[40,70,52]])\n",
    "sale = np.dot(prices,sold)\n",
    "sale"
   ]
  }
 ],
 "metadata": {
  "kernelspec": {
   "display_name": "Python 3 (ipykernel)",
   "language": "python",
   "name": "python3"
  },
  "language_info": {
   "codemirror_mode": {
    "name": "ipython",
    "version": 3
   },
   "file_extension": ".py",
   "mimetype": "text/x-python",
   "name": "python",
   "nbconvert_exporter": "python",
   "pygments_lexer": "ipython3",
   "version": "3.11.7"
  }
 },
 "nbformat": 4,
 "nbformat_minor": 5
}
