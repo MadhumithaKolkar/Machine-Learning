{
 "cells": [
  {
   "cell_type": "code",
   "execution_count": 1,
   "id": "1695a21c",
   "metadata": {},
   "outputs": [
    {
     "name": "stdout",
     "output_type": "stream",
     "text": [
      "f strings allow us to type Hello Madhumitha\n"
     ]
    }
   ],
   "source": [
    "variable = \"Hello Madhumitha\"\n",
    "print(f\"f strings allow us to type {variable}\")"
   ]
  },
  {
   "cell_type": "markdown",
   "id": "9aacf0f5",
   "metadata": {},
   "source": [
    "This is just some text"
   ]
  }
 ],
 "metadata": {
  "kernelspec": {
   "display_name": "Python 3 (ipykernel)",
   "language": "python",
   "name": "python3"
  },
  "language_info": {
   "codemirror_mode": {
    "name": "ipython",
    "version": 3
   },
   "file_extension": ".py",
   "mimetype": "text/x-python",
   "name": "python",
   "nbconvert_exporter": "python",
   "pygments_lexer": "ipython3",
   "version": "3.11.4"
  }
 },
 "nbformat": 4,
 "nbformat_minor": 5
}
