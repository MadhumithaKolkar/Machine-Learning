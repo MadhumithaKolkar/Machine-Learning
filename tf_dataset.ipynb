{
 "cells": [
  {
   "cell_type": "code",
   "execution_count": 15,
   "id": "2e68af22-55a1-476f-81dc-421f614b201c",
   "metadata": {},
   "outputs": [],
   "source": [
    "import tensorflow as tf"
   ]
  },
  {
   "cell_type": "code",
   "execution_count": 16,
   "id": "b46da5db-8456-4a19-8c22-16433be12043",
   "metadata": {},
   "outputs": [],
   "source": [
    "daily_sales = [21,22,-108,31,-1,32,34,31]"
   ]
  },
  {
   "cell_type": "code",
   "execution_count": 17,
   "id": "66df8420-ad7d-4fb6-a2cc-159a4bb6869b",
   "metadata": {},
   "outputs": [],
   "source": [
    "tf_dataset = tf.data.Dataset.from_tensor_slices(daily_sales)"
   ]
  },
  {
   "cell_type": "code",
   "execution_count": 18,
   "id": "4159fbc7-e19d-4993-bf35-fafa8d33ba05",
   "metadata": {},
   "outputs": [
    {
     "data": {
      "text/plain": [
       "<_TensorSliceDataset element_spec=TensorSpec(shape=(), dtype=tf.int32, name=None)>"
      ]
     },
     "execution_count": 18,
     "metadata": {},
     "output_type": "execute_result"
    }
   ],
   "source": [
    "tf_dataset"
   ]
  },
  {
   "cell_type": "code",
   "execution_count": 19,
   "id": "0c2667f8-c63e-4891-ac9c-8aeae05898ff",
   "metadata": {},
   "outputs": [
    {
     "name": "stdout",
     "output_type": "stream",
     "text": [
      "21\n",
      "22\n",
      "-108\n",
      "31\n",
      "-1\n",
      "32\n",
      "34\n",
      "31\n"
     ]
    }
   ],
   "source": [
    "for sales in tf_dataset.as_numpy_iterator():\n",
    "    print(sales)"
   ]
  },
  {
   "cell_type": "code",
   "execution_count": 20,
   "id": "e2ad0e1e-313d-4a92-b90b-4a68a0ed3dac",
   "metadata": {},
   "outputs": [
    {
     "name": "stdout",
     "output_type": "stream",
     "text": [
      "21\n",
      "22\n",
      "-108\n"
     ]
    }
   ],
   "source": [
    "for sales in tf_dataset.take(3):\n",
    "    print(sales.numpy())"
   ]
  },
  {
   "cell_type": "code",
   "execution_count": 21,
   "id": "b49e6b6c-de1a-4c90-80cd-06797f516231",
   "metadata": {},
   "outputs": [
    {
     "name": "stdout",
     "output_type": "stream",
     "text": [
      "21\n",
      "22\n",
      "31\n",
      "32\n",
      "34\n",
      "31\n"
     ]
    }
   ],
   "source": [
    "tf_dataset = tf_dataset.filter(lambda x:x>0)\n",
    "for sales in tf_dataset:\n",
    "    print(sales.numpy())"
   ]
  },
  {
   "cell_type": "code",
   "execution_count": 22,
   "id": "9f09faeb-a636-46c4-9f62-487ac7a5a843",
   "metadata": {},
   "outputs": [
    {
     "name": "stdout",
     "output_type": "stream",
     "text": [
      "2232\n",
      "1584\n",
      "2304\n",
      "2232\n",
      "2448\n",
      "1512\n"
     ]
    }
   ],
   "source": [
    "tf_dataset = tf_dataset.map(lambda x:x*72)\n",
    "tf_dataset = tf_dataset.shuffle(3)\n",
    "for sales in tf_dataset:\n",
    "    print(sales.numpy())"
   ]
  },
  {
   "cell_type": "code",
   "execution_count": 23,
   "id": "e74483a2-e21d-4169-9aa8-da3587adcddb",
   "metadata": {},
   "outputs": [
    {
     "name": "stdout",
     "output_type": "stream",
     "text": [
      "[1584 2304 2448 2232]\n",
      "[2232 1512]\n"
     ]
    }
   ],
   "source": [
    "for sales_batch in tf_dataset.batch(4):\n",
    "    print(sales_batch.numpy())"
   ]
  },
  {
   "cell_type": "code",
   "execution_count": 57,
   "id": "b611b946-44a0-44a3-b7fb-ed57db6d3ed7",
   "metadata": {},
   "outputs": [],
   "source": [
    "tf_dataset = tf.data.Dataset.from_tensor_slices(daily_sales)\n",
    "\n",
    "tf_dataset = tf_dataset.filter(lambda x:x>0).map(lambda y:y*72).shuffle(2).batch(2)"
   ]
  },
  {
   "cell_type": "code",
   "execution_count": 58,
   "id": "1d0211f2-72c9-4144-9c5d-f80942fbe53a",
   "metadata": {},
   "outputs": [
    {
     "name": "stdout",
     "output_type": "stream",
     "text": [
      "[1512 2232]\n",
      "[1584 2304]\n",
      "[2232 2448]\n"
     ]
    }
   ],
   "source": [
    "for sales in tf_dataset:\n",
    "    print(sales.numpy())"
   ]
  },
  {
   "cell_type": "code",
   "execution_count": 59,
   "id": "61c4a6c7-1f17-4df0-b0eb-6e0e5b4bade9",
   "metadata": {},
   "outputs": [
    {
     "name": "stdout",
     "output_type": "stream",
     "text": [
      "b'images\\\\cat\\\\20 Reasons Why Cats Make the Best Pets....jpg'\n",
      "b'images\\\\cat\\\\7 Foods Your Cat Can_t Eat.jpg'\n",
      "b'images\\\\cat\\\\A cat appears to have caught the....jpg'\n",
      "b'images\\\\cat\\\\Adopt-A-Cat Month\\xc2\\xae - American Humane....jpg'\n",
      "b'images\\\\cat\\\\All About Your Cat_s Tongue.jpg'\n"
     ]
    }
   ],
   "source": [
    "images_ds = tf.data.Dataset.list_files('images/*/*', shuffle = False)\n",
    "\n",
    "for file in images_ds.take(5):\n",
    "    print(file.numpy())"
   ]
  },
  {
   "cell_type": "code",
   "execution_count": 60,
   "id": "790b56ee-14db-4dd9-9599-b9021c4f9b97",
   "metadata": {},
   "outputs": [
    {
     "name": "stdout",
     "output_type": "stream",
     "text": [
      "b'images\\\\cat\\\\Orlando Cat Caf\\xc3\\xa9.png'\n",
      "b'images\\\\dog\\\\Science_ Talking to Your Dog Means You....jpg'\n",
      "b'images\\\\cat\\\\Why Cats Sniff Rear Ends _ VCA Animal....png'\n",
      "b'images\\\\cat\\\\Pet Insurance for Cats & Kittens _ Petplan.png'\n",
      "b'images\\\\dog\\\\How Many Dog Breeds Are There_ _ Hill_s Pet.jpg'\n"
     ]
    }
   ],
   "source": [
    "images_ds = images_ds.shuffle(200)\n",
    "\n",
    "for file in images_ds.take(5):\n",
    "    print(file.numpy())"
   ]
  },
  {
   "cell_type": "code",
   "execution_count": 61,
   "id": "ba53788b-f116-45ef-af31-f1a57a65f959",
   "metadata": {},
   "outputs": [],
   "source": [
    "class_name = [\"cat\", \"dog\"]"
   ]
  },
  {
   "cell_type": "code",
   "execution_count": 62,
   "id": "d1184dfe-04d1-4beb-a936-eff584fa39e5",
   "metadata": {},
   "outputs": [
    {
     "data": {
      "text/plain": [
       "130"
      ]
     },
     "execution_count": 62,
     "metadata": {},
     "output_type": "execute_result"
    }
   ],
   "source": [
    "image_count = len(images_ds)\n",
    "image_count"
   ]
  },
  {
   "cell_type": "code",
   "execution_count": 63,
   "id": "6aaa4f43-7e22-4273-8941-a10ceb905eef",
   "metadata": {},
   "outputs": [],
   "source": [
    "train_size = int(image_count*0.8)\n",
    "\n",
    "train_ds = images_ds.take(train_size)\n",
    "test_ds = images_ds.skip(train_size)"
   ]
  },
  {
   "cell_type": "code",
   "execution_count": 64,
   "id": "e0332c8e-5436-4a5c-8d26-15d93c5b830a",
   "metadata": {},
   "outputs": [
    {
     "data": {
      "text/plain": [
       "104"
      ]
     },
     "execution_count": 64,
     "metadata": {},
     "output_type": "execute_result"
    }
   ],
   "source": [
    "len(train_ds)"
   ]
  },
  {
   "cell_type": "code",
   "execution_count": 65,
   "id": "66216139-c42a-4c2e-8c03-14ac2413a494",
   "metadata": {},
   "outputs": [
    {
     "data": {
      "text/plain": [
       "26"
      ]
     },
     "execution_count": 65,
     "metadata": {},
     "output_type": "execute_result"
    }
   ],
   "source": [
    "len(test_ds)"
   ]
  },
  {
   "cell_type": "code",
   "execution_count": 66,
   "id": "e3e3a3eb-e1bb-4b68-a48c-ece23eed94cc",
   "metadata": {},
   "outputs": [
    {
     "data": {
      "text/plain": [
       "'cat'"
      ]
     },
     "execution_count": 66,
     "metadata": {},
     "output_type": "execute_result"
    }
   ],
   "source": [
    "s = 'images\\\\cat\\\\The Science-Backed Benefits of Being a....jpg'\n",
    "s.split(\"\\\\\")[1]"
   ]
  },
  {
   "cell_type": "code",
   "execution_count": 67,
   "id": "3ab909cc-0862-4179-97db-d7d1baa50526",
   "metadata": {},
   "outputs": [],
   "source": [
    "def get_label(file_path):\n",
    "    import os\n",
    "    return tf.strings.split(file_path, os.path.sep)[1]"
   ]
  },
  {
   "cell_type": "code",
   "execution_count": 68,
   "id": "3e50d457-e0ee-4c00-b12f-8cc390fb4a58",
   "metadata": {},
   "outputs": [],
   "source": [
    "def process_image(file_path):\n",
    "    label = get_label(file_path)\n",
    "    img = tf.io.read_file(file_path)\n",
    "    img = tf.image.decode_jpeg(img)\n",
    "    img = tf.image.resize(img, [128,128])\n",
    "\n",
    "    return img,label"
   ]
  },
  {
   "cell_type": "code",
   "execution_count": 69,
   "id": "3f0806e0-4e0b-45ca-b60d-224058a62e5f",
   "metadata": {},
   "outputs": [
    {
     "name": "stdout",
     "output_type": "stream",
     "text": [
      "Image : [[[254.      254.      254.     ]\n",
      "  [254.      254.      254.     ]\n",
      "  [254.      254.      254.     ]\n",
      "  ...\n",
      "  [254.      254.      254.     ]\n",
      "  [254.      254.      254.     ]\n",
      "  [254.      254.      254.     ]]\n",
      "\n",
      " [[254.      254.      254.     ]\n",
      "  [254.      254.      254.     ]\n",
      "  [254.      254.      254.     ]\n",
      "  ...\n",
      "  [254.      254.      254.     ]\n",
      "  [254.      254.      254.     ]\n",
      "  [254.      254.      254.     ]]\n",
      "\n",
      " [[254.      254.      254.     ]\n",
      "  [254.      254.      254.     ]\n",
      "  [254.      254.      254.     ]\n",
      "  ...\n",
      "  [254.      254.      254.     ]\n",
      "  [254.      254.      254.     ]\n",
      "  [254.      254.      254.     ]]\n",
      "\n",
      " ...\n",
      "\n",
      " [[254.      254.      254.     ]\n",
      "  [254.      254.      254.     ]\n",
      "  [254.      254.      254.     ]\n",
      "  ...\n",
      "  [252.      252.      252.     ]\n",
      "  [252.92188 252.92188 252.92188]\n",
      "  [252.74902 252.74902 252.74902]]\n",
      "\n",
      " [[254.      254.      254.     ]\n",
      "  [254.      254.      254.     ]\n",
      "  [254.      254.      254.     ]\n",
      "  ...\n",
      "  [254.      254.      254.     ]\n",
      "  [254.      254.      254.     ]\n",
      "  [254.      254.      254.     ]]\n",
      "\n",
      " [[254.      254.      254.     ]\n",
      "  [254.      254.      254.     ]\n",
      "  [254.      254.      254.     ]\n",
      "  ...\n",
      "  [254.      254.      254.     ]\n",
      "  [254.      254.      254.     ]\n",
      "  [254.      254.      254.     ]]]\n",
      "Label : b'dog'\n",
      "Image : [[[ 10.0078125  20.007812   11.0078125]\n",
      "  [ 12.0234375  22.023438   11.0234375]\n",
      "  [ 14.480469   24.480469   13.480469 ]\n",
      "  ...\n",
      "  [ 17.480469   24.480469   32.48047  ]\n",
      "  [ 20.511719   29.511719   36.51172  ]\n",
      "  [ 23.488281   36.48828    45.48828  ]]\n",
      "\n",
      " [[ 12.394531   22.394531   13.394531 ]\n",
      "  [ 12.0703125  22.070312   12.046875 ]\n",
      "  [ 14.511719   24.511719   13.511719 ]\n",
      "  ...\n",
      "  [ 15.90625    25.90625    35.90625  ]\n",
      "  [ 22.         33.535156   43.023438 ]\n",
      "  [ 26.164062   38.164062   50.164062 ]]\n",
      "\n",
      " [[ 14.558594   24.558594   15.558594 ]\n",
      "  [ 13.1171875  23.117188   15.1171875]\n",
      "  [ 12.078125   22.078125   13.078125 ]\n",
      "  ...\n",
      "  [ 20.675781   30.675781   42.67578  ]\n",
      "  [ 23.402344   32.36328    42.882812 ]\n",
      "  [ 19.558594   33.558594   46.558594 ]]\n",
      "\n",
      " ...\n",
      "\n",
      " [[ 64.609375   63.609375   68.609375 ]\n",
      "  [ 84.72656    81.72656    88.72656  ]\n",
      "  [ 78.24609    77.24609    84.28516  ]\n",
      "  ...\n",
      "  [101.83203   110.390625  124.3125   ]\n",
      "  [137.03906   139.03906   154.03906  ]\n",
      "  [124.36328   125.36328   143.36328  ]]\n",
      "\n",
      " [[ 56.535156   57.535156   62.046875 ]\n",
      "  [ 78.11719    76.140625   82.62891  ]\n",
      "  [ 90.859375   89.37109    98.83594  ]\n",
      "  ...\n",
      "  [130.97656   133.95312   147.48828  ]\n",
      "  [129.92969   129.90625   146.88281  ]\n",
      "  [122.62891   126.60547   145.60547  ]]\n",
      "\n",
      " [[ 80.48828    75.48828    82.48828  ]\n",
      "  [ 85.51953    86.51953    90.51953  ]\n",
      "  [101.51172   102.51172   107.51172  ]\n",
      "  ...\n",
      "  [128.01562   130.01562   145.01562  ]\n",
      "  [115.953125  121.953125  135.95312  ]\n",
      "  [116.48047   119.48047   135.47266  ]]]\n",
      "Label : b'cat'\n",
      "Image : [[[129.03906  113.03906   77.03906 ]\n",
      "  [131.       115.        79.      ]\n",
      "  [129.875    113.875     79.875   ]\n",
      "  ...\n",
      "  [115.99756  102.99756   93.99756 ]\n",
      "  [105.54053   96.54053   87.54053 ]\n",
      "  [ 94.367676  85.367676  76.367676]]\n",
      "\n",
      " [[129.23438  113.234375  77.234375]\n",
      "  [131.       115.        79.      ]\n",
      "  [129.875    113.875     79.875   ]\n",
      "  ...\n",
      "  [117.82764  104.82764   95.82764 ]\n",
      "  [107.        98.        89.      ]\n",
      "  [ 98.72803   89.72803   80.72803 ]]\n",
      "\n",
      " [[129.8125   113.8125    77.8125  ]\n",
      "  [131.80469  115.80469   79.80469 ]\n",
      "  [131.       115.        81.      ]\n",
      "  ...\n",
      "  [116.183105 103.183105  94.183105]\n",
      "  [106.125     97.125     88.125   ]\n",
      "  [ 98.1875    89.1875    80.1875  ]]\n",
      "\n",
      " ...\n",
      "\n",
      " [[141.20312  124.203125  98.203125]\n",
      "  [142.63281  125.63281   99.63281 ]\n",
      "  [143.       128.        99.      ]\n",
      "  ...\n",
      "  [192.       157.       119.      ]\n",
      "  [190.36719  155.36719  117.36719 ]\n",
      "  [191.4585   156.4585   118.458496]]\n",
      "\n",
      " [[143.09229  126.092285 100.04834 ]\n",
      "  [146.4375   129.4375   103.33496 ]\n",
      "  [146.11719  131.11719  102.11719 ]\n",
      "  ...\n",
      "  [188.88281  153.88281  115.88281 ]\n",
      "  [186.5625   151.5625   113.5625  ]\n",
      "  [187.04834  152.04834  114.04834 ]]\n",
      "\n",
      " [[146.       129.        99.      ]\n",
      "  [148.       131.       101.      ]\n",
      "  [150.96094  133.96094  105.96094 ]\n",
      "  ...\n",
      "  [186.03418  152.03418  115.03418 ]\n",
      "  [182.54053  147.54053  109.54053 ]\n",
      "  [180.03906  145.03906  107.03906 ]]]\n",
      "Label : b'dog'\n"
     ]
    }
   ],
   "source": [
    "train_ds = train_ds.map(process_image)\n",
    "for image,label in train_ds.take(3):\n",
    "    print(f\"Image : {image}\")\n",
    "    print(f\"Label : {label}\")"
   ]
  },
  {
   "cell_type": "code",
   "execution_count": 51,
   "id": "dc594c83-b48b-485f-afd1-4760a85a35c6",
   "metadata": {},
   "outputs": [],
   "source": [
    "def scale(image, label):\n",
    "    return image/255, label"
   ]
  },
  {
   "cell_type": "code",
   "execution_count": 70,
   "id": "af22785f-b2e3-40d3-b1ac-44f6d0adad5a",
   "metadata": {},
   "outputs": [
    {
     "name": "stdout",
     "output_type": "stream",
     "text": [
      "**Image : [0.8432598  0.8079657  0.74129903]\n",
      "**Label : b'dog'\n",
      "**Image : [0.5887083  0.6632181  0.41223767]\n",
      "**Label : b'dog'\n",
      "**Image : [0.0891391  0.07345282 0.0381587 ]\n",
      "**Label : b'dog'\n",
      "**Image : [0.5981036 0.6666329 0.6666329]\n",
      "**Label : b'cat'\n",
      "**Image : [0.68235296 0.6784314  0.6627451 ]\n",
      "**Label : b'cat'\n"
     ]
    }
   ],
   "source": [
    "train_ds = train_ds.map(scale)\n",
    "for image,label in train_ds.take(5):\n",
    "    print(f\"**Image : {image.numpy()[0][0]}\")\n",
    "    print(f\"**Label : {label.numpy()}\")"
   ]
  },
  {
   "cell_type": "code",
   "execution_count": null,
   "id": "1a513ec1-cbb9-4518-81ec-443345a475ac",
   "metadata": {},
   "outputs": [],
   "source": []
  }
 ],
 "metadata": {
  "kernelspec": {
   "display_name": "Python 3 (ipykernel)",
   "language": "python",
   "name": "python3"
  },
  "language_info": {
   "codemirror_mode": {
    "name": "ipython",
    "version": 3
   },
   "file_extension": ".py",
   "mimetype": "text/x-python",
   "name": "python",
   "nbconvert_exporter": "python",
   "pygments_lexer": "ipython3",
   "version": "3.11.7"
  }
 },
 "nbformat": 4,
 "nbformat_minor": 5
}
